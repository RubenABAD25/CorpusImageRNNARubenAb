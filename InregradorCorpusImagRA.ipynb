{
 "cells": [
  {
   "cell_type": "markdown",
   "metadata": {},
   "source": [
    "<img src=\"https://www.ups.edu.ec/ups_portal-theme/images/ups/home/logo-ups-home.png\"> \n",
    "\n",
    "### Project IA2\n",
    "<text>Name :  Ruben Esteban Abad Ordoñez.</text>\n",
    "\n",
    "<text>Subject: I.A.2</text>\n"
   ]
  },
  {
   "cell_type": "markdown",
   "metadata": {},
   "source": [
    "### Libreries."
   ]
  },
  {
   "cell_type": "code",
   "execution_count": 1,
   "metadata": {},
   "outputs": [
    {
     "name": "stderr",
     "output_type": "stream",
     "text": [
      "Using TensorFlow backend.\n"
     ]
    }
   ],
   "source": [
    "import numpy as np\n",
    "import os\n",
    "import re\n",
    "import matplotlib.pyplot as plt\n",
    "%matplotlib inline\n",
    "from sklearn.model_selection import train_test_split\n",
    "from sklearn.metrics import classification_report\n",
    "from sklearn.preprocessing import LabelEncoder, OneHotEncoder\n",
    "import keras\n",
    "from keras.utils import to_categorical\n",
    "from keras.models import Sequential,Input,Model\n",
    "from keras.layers import Dense, Dropout, Flatten\n",
    "from keras.layers import Conv2D, MaxPooling2D\n",
    "from keras.layers.normalization import BatchNormalization\n",
    "from keras.layers.advanced_activations import LeakyReLU"
   ]
  },
  {
   "cell_type": "markdown",
   "metadata": {},
   "source": [
    "<text>In this Section right here, is where we fix and read the  dataset</text>"
   ]
  },
  {
   "cell_type": "code",
   "execution_count": 2,
   "metadata": {},
   "outputs": [
    {
     "name": "stdout",
     "output_type": "stream",
     "text": [
      "leyendo imagenes de  C:\\Users\\Ruben\\OneDrive\\UPS\\10mo\\IA2\\corpus\\\n",
      "C:\\Users\\Ruben\\OneDrive\\UPS\\10mo\\IA2\\corpus\\character_10_yna 1\n",
      "C:\\Users\\Ruben\\OneDrive\\UPS\\10mo\\IA2\\corpus\\character_11_taamatar 1700\n",
      "C:\\Users\\Ruben\\OneDrive\\UPS\\10mo\\IA2\\corpus\\character_12_thaa 1700\n",
      "C:\\Users\\Ruben\\OneDrive\\UPS\\10mo\\IA2\\corpus\\character_13_daa 1700\n",
      "C:\\Users\\Ruben\\OneDrive\\UPS\\10mo\\IA2\\corpus\\character_14_dhaa 1700\n",
      "C:\\Users\\Ruben\\OneDrive\\UPS\\10mo\\IA2\\corpus\\character_15_adna 1700\n",
      "C:\\Users\\Ruben\\OneDrive\\UPS\\10mo\\IA2\\corpus\\character_16_tabala 1700\n",
      "C:\\Users\\Ruben\\OneDrive\\UPS\\10mo\\IA2\\corpus\\character_17_tha 1700\n",
      "C:\\Users\\Ruben\\OneDrive\\UPS\\10mo\\IA2\\corpus\\character_18_da 1700\n",
      "C:\\Users\\Ruben\\OneDrive\\UPS\\10mo\\IA2\\corpus\\character_19_dha 1700\n",
      "C:\\Users\\Ruben\\OneDrive\\UPS\\10mo\\IA2\\corpus\\character_1_ka 1700\n",
      "C:\\Users\\Ruben\\OneDrive\\UPS\\10mo\\IA2\\corpus\\character_20_na 1700\n",
      "C:\\Users\\Ruben\\OneDrive\\UPS\\10mo\\IA2\\corpus\\character_21_pa 1700\n",
      "C:\\Users\\Ruben\\OneDrive\\UPS\\10mo\\IA2\\corpus\\character_22_pha 1700\n",
      "C:\\Users\\Ruben\\OneDrive\\UPS\\10mo\\IA2\\corpus\\character_23_ba 1700\n",
      "C:\\Users\\Ruben\\OneDrive\\UPS\\10mo\\IA2\\corpus\\character_24_bha 1700\n",
      "C:\\Users\\Ruben\\OneDrive\\UPS\\10mo\\IA2\\corpus\\character_25_ma 1700\n",
      "C:\\Users\\Ruben\\OneDrive\\UPS\\10mo\\IA2\\corpus\\character_26_yaw 1700\n",
      "C:\\Users\\Ruben\\OneDrive\\UPS\\10mo\\IA2\\corpus\\character_27_ra 1700\n",
      "C:\\Users\\Ruben\\OneDrive\\UPS\\10mo\\IA2\\corpus\\character_28_la 1700\n",
      "C:\\Users\\Ruben\\OneDrive\\UPS\\10mo\\IA2\\corpus\\character_29_waw 1700\n",
      "C:\\Users\\Ruben\\OneDrive\\UPS\\10mo\\IA2\\corpus\\character_2_kha 1700\n",
      "C:\\Users\\Ruben\\OneDrive\\UPS\\10mo\\IA2\\corpus\\character_30_motosaw 1700\n",
      "C:\\Users\\Ruben\\OneDrive\\UPS\\10mo\\IA2\\corpus\\character_31_petchiryakha 1700\n",
      "C:\\Users\\Ruben\\OneDrive\\UPS\\10mo\\IA2\\corpus\\character_32_patalosaw 1700\n",
      "C:\\Users\\Ruben\\OneDrive\\UPS\\10mo\\IA2\\corpus\\character_33_ha 1700\n",
      "C:\\Users\\Ruben\\OneDrive\\UPS\\10mo\\IA2\\corpus\\character_34_chhya 1700\n",
      "C:\\Users\\Ruben\\OneDrive\\UPS\\10mo\\IA2\\corpus\\character_35_tra 1700\n",
      "C:\\Users\\Ruben\\OneDrive\\UPS\\10mo\\IA2\\corpus\\character_36_gya 1700\n",
      "C:\\Users\\Ruben\\OneDrive\\UPS\\10mo\\IA2\\corpus\\character_3_ga 1700\n",
      "C:\\Users\\Ruben\\OneDrive\\UPS\\10mo\\IA2\\corpus\\character_4_gha 1700\n",
      "C:\\Users\\Ruben\\OneDrive\\UPS\\10mo\\IA2\\corpus\\character_5_kna 1700\n",
      "C:\\Users\\Ruben\\OneDrive\\UPS\\10mo\\IA2\\corpus\\character_6_cha 1700\n",
      "C:\\Users\\Ruben\\OneDrive\\UPS\\10mo\\IA2\\corpus\\character_7_chha 1700\n",
      "C:\\Users\\Ruben\\OneDrive\\UPS\\10mo\\IA2\\corpus\\character_8_ja 1700\n",
      "C:\\Users\\Ruben\\OneDrive\\UPS\\10mo\\IA2\\corpus\\character_9_jha 1700\n",
      "C:\\Users\\Ruben\\OneDrive\\UPS\\10mo\\IA2\\corpus\\digit_0 1700\n",
      "C:\\Users\\Ruben\\OneDrive\\UPS\\10mo\\IA2\\corpus\\digit_1 1700\n",
      "C:\\Users\\Ruben\\OneDrive\\UPS\\10mo\\IA2\\corpus\\digit_2 1700\n",
      "C:\\Users\\Ruben\\OneDrive\\UPS\\10mo\\IA2\\corpus\\digit_3 1700\n",
      "C:\\Users\\Ruben\\OneDrive\\UPS\\10mo\\IA2\\corpus\\digit_4 1700\n",
      "C:\\Users\\Ruben\\OneDrive\\UPS\\10mo\\IA2\\corpus\\digit_5 1700\n",
      "C:\\Users\\Ruben\\OneDrive\\UPS\\10mo\\IA2\\corpus\\digit_6 1700\n",
      "C:\\Users\\Ruben\\OneDrive\\UPS\\10mo\\IA2\\corpus\\digit_7 1700\n",
      "C:\\Users\\Ruben\\OneDrive\\UPS\\10mo\\IA2\\corpus\\digit_8 1700\n",
      "C:\\Users\\Ruben\\OneDrive\\UPS\\10mo\\IA2\\corpus\\digit_9 1700\n",
      "Directorios leidos: 46\n",
      "Imagenes en cada directorio [1701, 1700, 1700, 1700, 1700, 1700, 1700, 1700, 1700, 1700, 1700, 1700, 1700, 1700, 1700, 1700, 1700, 1700, 1700, 1700, 1700, 1700, 1700, 1700, 1700, 1700, 1700, 1700, 1700, 1700, 1700, 1700, 1700, 1700, 1700, 1700, 1700, 1700, 1700, 1700, 1700, 1700, 1700, 1700, 1700, 1699]\n",
      "suma Total de imagenes en subdirs: 78200\n"
     ]
    }
   ],
   "source": [
    "dirname = os.path.join(os.getcwd(), 'corpus')\n",
    "imgpath = dirname + os.sep \n",
    "\n",
    "images = []\n",
    "directories = []\n",
    "dircount = []\n",
    "prevRoot=''\n",
    "cant=0\n",
    "\n",
    "print(\"leyendo imagenes de \",imgpath)\n",
    "\n",
    "for root, dirnames, filenames in os.walk(imgpath):\n",
    "    for filename in filenames:\n",
    "        if re.search(\"\\.(jpg|jpeg|png|bmp|tiff)$\", filename):\n",
    "            cant=cant+1\n",
    "            filepath = os.path.join(root, filename)\n",
    "            imag = plt.imread(filepath)\n",
    "            imag = np.expand_dims(imag, axis=2)\n",
    "            images.append(imag)\n",
    "            \n",
    "            b = \"Leyendo...\" + str(cant)\n",
    "            print (b, end=\"\\r\")\n",
    "            if prevRoot !=root:\n",
    "                print(root, cant)\n",
    "                prevRoot=root\n",
    "                directories.append(root)\n",
    "                dircount.append(cant)\n",
    "                cant=0\n",
    "dircount.append(cant)\n",
    "\n",
    "dircount = dircount[1:]\n",
    "dircount[0]=dircount[0]+1\n",
    "print('Directorios leidos:',len(directories))\n",
    "print(\"Imagenes en cada directorio\", dircount)\n",
    "print('suma Total de imagenes en subdirs:',sum(dircount))"
   ]
  },
  {
   "cell_type": "markdown",
   "metadata": {},
   "source": [
    "<text>I am going to  obtain the labels, as these are the dataframe in x and y values.</text>"
   ]
  },
  {
   "cell_type": "code",
   "execution_count": 3,
   "metadata": {},
   "outputs": [
    {
     "name": "stdout",
     "output_type": "stream",
     "text": [
      "Cantidad etiquetas creadas:  78200\n",
      "0 character_10_yna\n",
      "1 character_11_taamatar\n",
      "2 character_12_thaa\n",
      "3 character_13_daa\n",
      "4 character_14_dhaa\n",
      "5 character_15_adna\n",
      "6 character_16_tabala\n",
      "7 character_17_tha\n",
      "8 character_18_da\n",
      "9 character_19_dha\n",
      "10 character_1_ka\n",
      "11 character_20_na\n",
      "12 character_21_pa\n",
      "13 character_22_pha\n",
      "14 character_23_ba\n",
      "15 character_24_bha\n",
      "16 character_25_ma\n",
      "17 character_26_yaw\n",
      "18 character_27_ra\n",
      "19 character_28_la\n",
      "20 character_29_waw\n",
      "21 character_2_kha\n",
      "22 character_30_motosaw\n",
      "23 character_31_petchiryakha\n",
      "24 character_32_patalosaw\n",
      "25 character_33_ha\n",
      "26 character_34_chhya\n",
      "27 character_35_tra\n",
      "28 character_36_gya\n",
      "29 character_3_ga\n",
      "30 character_4_gha\n",
      "31 character_5_kna\n",
      "32 character_6_cha\n",
      "33 character_7_chha\n",
      "34 character_8_ja\n",
      "35 character_9_jha\n",
      "36 digit_0\n",
      "37 digit_1\n",
      "38 digit_2\n",
      "39 digit_3\n",
      "40 digit_4\n",
      "41 digit_5\n",
      "42 digit_6\n",
      "43 digit_7\n",
      "44 digit_8\n",
      "45 digit_9\n",
      "Output classes :  [ 0  1  2  3  4  5  6  7  8  9 10 11 12 13 14 15 16 17 18 19 20 21 22 23\n",
      " 24 25 26 27 28 29 30 31 32 33 34 35 36 37 38 39 40 41 42 43 44 45]\n",
      "tamanio de y 78200\n"
     ]
    }
   ],
   "source": [
    "labels=[]\n",
    "indice=0\n",
    "for cantidad in dircount:\n",
    "    for i in range(cantidad):\n",
    "        labels.append(indice)\n",
    "    indice=indice+1\n",
    "print(\"Cantidad etiquetas creadas: \",len(labels))\n",
    "\n",
    "delta=[]\n",
    "indice=0\n",
    "for directorio in directories:\n",
    "    name = directorio.split(os.sep)\n",
    "    print(indice , name[len(name)-1])\n",
    "    delta.append(name[len(name)-1])\n",
    "    indice=indice+1\n",
    "\n",
    "y = np.array(labels)\n",
    "X = np.array(images, dtype=np.uint32) #turn into to list  numpy\n",
    "\n",
    "\n",
    "# Find the unique numbers from the train labels\n",
    "classes = np.unique(y)\n",
    "nClasses = len(classes)\n",
    "# print('Total number of outputs : ', nClasses)\n",
    "print('Output classes : ', classes)\n",
    "print('tamanio de y',len(y))"
   ]
  },
  {
   "cell_type": "markdown",
   "metadata": {},
   "source": [
    "<text>In this part we apply the hotencoding to the respective outputs to the y values and also divide or separate in the data for our train and test.\n",
    "</text>"
   ]
  },
  {
   "cell_type": "code",
   "execution_count": 4,
   "metadata": {},
   "outputs": [],
   "source": [
    "Y_one_hot = to_categorical(y)"
   ]
  },
  {
   "cell_type": "code",
   "execution_count": 5,
   "metadata": {},
   "outputs": [
    {
     "name": "stdout",
     "output_type": "stream",
     "text": [
      "62560\n",
      "15640\n"
     ]
    }
   ],
   "source": [
    "#print(len(images),'---',len(Y_one_hot))\n",
    "train_X,test_X,train_Y,test_Y = train_test_split(X,Y_one_hot,test_size=0.2)\n",
    "print(len(train_X))\n",
    "print(len(test_X))"
   ]
  },
  {
   "cell_type": "markdown",
   "metadata": {},
   "source": [
    "<text>Now we proceed to the design of the neural network which consists of a hidden netra layer 3 and an y-output  repectively will deal with alpha and an acceptable error for its use and increase the precision.\n",
    "</text>"
   ]
  },
  {
   "cell_type": "code",
   "execution_count": 8,
   "metadata": {},
   "outputs": [],
   "source": [
    "INIT_LR = 2e-2\n",
    "epochs = 25\n",
    "batch_size = 128\n",
    "modelo = Sequential()\n",
    "modelo.add(Dense(32, activation='relu',input_shape=(32,32,1)))\n",
    "modelo.add(Dense(64, activation='relu'))\n",
    "modelo.add(Dense(64, activation='relu'))\n",
    "# modelo.add(Conv2D(32, kernel_size=(3, 3),activation='linear',padding='same',input_shape=(32,32,1)))\n",
    "modelo.add(LeakyReLU(alpha=0.4))\n",
    "modelo.add(MaxPooling2D((2, 2),padding='same'))\n",
    "modelo.add(Dropout(0.2))\n",
    " \n",
    "modelo.add(Flatten())\n",
    "modelo.add(Dense(128, activation='relu'))\n",
    "# modelo.add(Dense(32, activation='linear'))\n",
    "modelo.add(LeakyReLU(alpha=0.4))\n",
    "modelo.add(Dropout(0.2)) \n",
    "modelo.add(Dense(nClasses, activation='softmax'))\n",
    "modelo.compile(loss=keras.losses.categorical_crossentropy,\n",
    "              optimizer=keras.optimizers.Adadelta(),\n",
    "              metrics=['accuracy'])\n",
    "# modelo.summary()\n",
    "# modelo.compile(loss=keras.losses.categorical_crossentropy, optimizer=keras.optimizers.Adagrad(lr=INIT_LR, decay=INIT_LR / 100),metrics=['accuracy'])"
   ]
  },
  {
   "cell_type": "markdown",
   "metadata": {},
   "source": [
    "<text>This section includes training and its structure.</text>"
   ]
  },
  {
   "cell_type": "markdown",
   "metadata": {},
   "source": [
    "<text>In this part is the training which took 45 min with 25 Epochs*\n",
    "</text>"
   ]
  },
  {
   "cell_type": "code",
   "execution_count": 9,
   "metadata": {},
   "outputs": [
    {
     "name": "stdout",
     "output_type": "stream",
     "text": [
      "Train on 62560 samples, validate on 15640 samples\n",
      "Epoch 1/25\n",
      "62560/62560 [==============================] - 105s 2ms/step - loss: 1.7102 - accuracy: 0.5342 - val_loss: 1.1423 - val_accuracy: 0.6835\n",
      "Epoch 2/25\n",
      "62560/62560 [==============================] - 105s 2ms/step - loss: 1.1756 - accuracy: 0.6668 - val_loss: 0.9832 - val_accuracy: 0.7295\n",
      "Epoch 3/25\n",
      "62560/62560 [==============================] - 105s 2ms/step - loss: 1.0426 - accuracy: 0.7011 - val_loss: 0.8989 - val_accuracy: 0.7472\n",
      "Epoch 4/25\n",
      "62560/62560 [==============================] - 105s 2ms/step - loss: 0.9671 - accuracy: 0.7226 - val_loss: 0.8463 - val_accuracy: 0.7609\n",
      "Epoch 5/25\n",
      "62560/62560 [==============================] - 106s 2ms/step - loss: 0.9138 - accuracy: 0.7363 - val_loss: 0.8262 - val_accuracy: 0.7673\n",
      "Epoch 6/25\n",
      "62560/62560 [==============================] - 105s 2ms/step - loss: 0.8683 - accuracy: 0.7496 - val_loss: 0.7964 - val_accuracy: 0.7753\n",
      "Epoch 7/25\n",
      "62560/62560 [==============================] - 106s 2ms/step - loss: 0.8414 - accuracy: 0.7561 - val_loss: 0.7794 - val_accuracy: 0.7792\n",
      "Epoch 8/25\n",
      "62560/62560 [==============================] - 105s 2ms/step - loss: 0.8178 - accuracy: 0.7627 - val_loss: 0.7648 - val_accuracy: 0.7845\n",
      "Epoch 9/25\n",
      "62560/62560 [==============================] - 105s 2ms/step - loss: 0.7982 - accuracy: 0.7682 - val_loss: 0.7548 - val_accuracy: 0.7895\n",
      "Epoch 10/25\n",
      "62560/62560 [==============================] - 105s 2ms/step - loss: 0.7835 - accuracy: 0.7700 - val_loss: 0.7438 - val_accuracy: 0.7929\n",
      "Epoch 11/25\n",
      "62560/62560 [==============================] - 105s 2ms/step - loss: 0.7637 - accuracy: 0.7740 - val_loss: 0.7338 - val_accuracy: 0.7933\n",
      "Epoch 12/25\n",
      "62560/62560 [==============================] - 105s 2ms/step - loss: 0.7508 - accuracy: 0.7778 - val_loss: 0.7402 - val_accuracy: 0.7933\n",
      "Epoch 13/25\n",
      "62560/62560 [==============================] - 106s 2ms/step - loss: 0.7435 - accuracy: 0.7822 - val_loss: 0.7177 - val_accuracy: 0.8022\n",
      "Epoch 14/25\n",
      "62560/62560 [==============================] - 106s 2ms/step - loss: 0.7277 - accuracy: 0.7841 - val_loss: 0.7166 - val_accuracy: 0.8025\n",
      "Epoch 15/25\n",
      "62560/62560 [==============================] - 106s 2ms/step - loss: 0.7186 - accuracy: 0.7887 - val_loss: 0.7148 - val_accuracy: 0.8023\n",
      "Epoch 16/25\n",
      "62560/62560 [==============================] - 105s 2ms/step - loss: 0.7149 - accuracy: 0.7883 - val_loss: 0.7099 - val_accuracy: 0.8019\n",
      "Epoch 17/25\n",
      "62560/62560 [==============================] - 105s 2ms/step - loss: 0.7051 - accuracy: 0.7901 - val_loss: 0.7037 - val_accuracy: 0.8012\n",
      "Epoch 18/25\n",
      "62560/62560 [==============================] - 107s 2ms/step - loss: 0.6950 - accuracy: 0.7951 - val_loss: 0.6975 - val_accuracy: 0.8038\n",
      "Epoch 19/25\n",
      "62560/62560 [==============================] - 106s 2ms/step - loss: 0.6922 - accuracy: 0.7942 - val_loss: 0.7027 - val_accuracy: 0.8026\n",
      "Epoch 20/25\n",
      "62560/62560 [==============================] - 105s 2ms/step - loss: 0.6838 - accuracy: 0.7971 - val_loss: 0.6937 - val_accuracy: 0.8048\n",
      "Epoch 21/25\n",
      "62560/62560 [==============================] - 106s 2ms/step - loss: 0.6777 - accuracy: 0.7995 - val_loss: 0.6956 - val_accuracy: 0.8023\n",
      "Epoch 22/25\n",
      "62560/62560 [==============================] - 106s 2ms/step - loss: 0.6720 - accuracy: 0.8011 - val_loss: 0.6878 - val_accuracy: 0.8076\n",
      "Epoch 23/25\n",
      "62560/62560 [==============================] - 106s 2ms/step - loss: 0.6684 - accuracy: 0.8014 - val_loss: 0.6876 - val_accuracy: 0.8087\n",
      "Epoch 24/25\n",
      "62560/62560 [==============================] - 106s 2ms/step - loss: 0.6589 - accuracy: 0.8030 - val_loss: 0.6856 - val_accuracy: 0.8076\n",
      "Epoch 25/25\n",
      "62560/62560 [==============================] - 106s 2ms/step - loss: 0.6550 - accuracy: 0.8052 - val_loss: 0.6824 - val_accuracy: 0.8084\n"
     ]
    }
   ],
   "source": [
    "sport_train_dropout = modelo.fit(train_X, train_Y, batch_size=batch_size,epochs=epochs,verbose=1,validation_data=(test_X, test_Y))"
   ]
  },
  {
   "cell_type": "markdown",
   "metadata": {},
   "source": [
    "<text> In this part  is   to estimate a  % Precision</text>"
   ]
  },
  {
   "cell_type": "code",
   "execution_count": 10,
   "metadata": {},
   "outputs": [
    {
     "name": "stdout",
     "output_type": "stream",
     "text": [
      "Precisión:  80.84398976982096\n"
     ]
    }
   ],
   "source": [
    "from sklearn.metrics import accuracy_score\n",
    "y_pred = modelo.predict(test_X)\n",
    "\n",
    "pred = list()\n",
    "for i in range(len(y_pred)):\n",
    "    pred.append(np.argmax(y_pred[i]))\n",
    "    \n",
    "test = list()\n",
    "for i in range(len(test_Y)):\n",
    "    test.append(np.argmax(test_Y[i]))\n",
    "    \n",
    "    \n",
    "precision = accuracy_score(pred, test) # Comparamos lo que predijo la red con las salidas deseadas\n",
    "valPorc=precision*100\n",
    "print('Precisión: ',valPorc)"
   ]
  },
  {
   "cell_type": "markdown",
   "metadata": {},
   "source": [
    "### In this part is to draw   about to train and test"
   ]
  },
  {
   "cell_type": "code",
   "execution_count": 11,
   "metadata": {},
   "outputs": [
    {
     "data": {
      "image/png": "[encoded data removed]",
      "text/plain": [
       "<Figure size 432x288 with 1 Axes>"
      ]
     },
     "metadata": {
      "needs_background": "light"
     },
     "output_type": "display_data"
    }
   ],
   "source": [
    "import matplotlib.pyplot as pp\n",
    "\n",
    "%matplotlib inline\n",
    "\n",
    "#print(historial.history)\n",
    "\n",
    "pp.plot(sport_train_dropout.history['accuracy'])\n",
    "pp.plot(sport_train_dropout.history['val_accuracy'])\n",
    "pp.title('Precisión de la RNA')\n",
    "pp.ylabel('Precisión')\n",
    "pp.xlabel('Época')\n",
    "pp.legend(['Entrenamiento','Test'], loc='lower right')\n",
    "pp.grid(True)\n",
    "pp.show()"
   ]
  },
  {
   "cell_type": "markdown",
   "metadata": {},
   "source": [
    "### In this part is to draw   about to loss witnh respective to Epoch"
   ]
  },
  {
   "cell_type": "code",
   "execution_count": 13,
   "metadata": {},
   "outputs": [
    {
     "data": {
      "image/png": "[encoded data removed]",
      "text/plain": [
       "<Figure size 432x288 with 1 Axes>"
      ]
     },
     "metadata": {
      "needs_background": "light"
     },
     "output_type": "display_data"
    }
   ],
   "source": [
    "pp.plot(sport_train_dropout.history['loss'])\n",
    "pp.plot(sport_train_dropout.history['val_loss'])\n",
    "pp.title('Loss')\n",
    "pp.ylabel('Loss')\n",
    "pp.xlabel('Época')\n",
    "pp.legend(['Entrenamiento','Test'], loc='upper right')\n",
    "pp.grid(True)\n",
    "pp.show()"
   ]
  },
  {
   "cell_type": "markdown",
   "metadata": {},
   "source": [
    "### In this part  is  to save    the model ."
   ]
  },
  {
   "cell_type": "code",
   "execution_count": 129,
   "metadata": {},
   "outputs": [
    {
     "name": "stdout",
     "output_type": "stream",
     "text": [
      "Saved model to disk\n"
     ]
    }
   ],
   "source": [
    "modelo.save_weights(\"model.h5\")\n",
    "print(\"Saved model to disk\")"
   ]
  },
  {
   "cell_type": "markdown",
   "metadata": {},
   "source": [
    "### In this part is doing to Prediction with Image"
   ]
  },
  {
   "cell_type": "code",
   "execution_count": 15,
   "metadata": {},
   "outputs": [
    {
     "name": "stdout",
     "output_type": "stream",
     "text": [
      "C:\\Users\\Ruben\\OneDrive\\UPS\\10mo\\IA2\n"
     ]
    }
   ],
   "source": [
    "import tensorflow as tf\n",
    "from PIL import Image\n",
    "dirnam = os.path.join(os.getcwd(),)\n",
    "print(dirnam)\n",
    "image = Image.open(\"1380.png\")"
   ]
  },
  {
   "cell_type": "code",
   "execution_count": 16,
   "metadata": {},
   "outputs": [
    {
     "name": "stdout",
     "output_type": "stream",
     "text": [
      "1\n"
     ]
    }
   ],
   "source": [
    "input_arr = keras.preprocessing.image.img_to_array(image)\n",
    "input_arr = np.array([input_arr])  # Convert single image to a batch.\n",
    "predictions = modelo.predict(input_arr)\n",
    "print(len(predictions))"
   ]
  },
  {
   "cell_type": "code",
   "execution_count": 17,
   "metadata": {},
   "outputs": [
    {
     "name": "stdout",
     "output_type": "stream",
     "text": [
      "Imágen:[[0. 0. 0. 0. 0. 0. 0. 0. 0. 0. 1. 0. 0. 0. 0. 0. 0. 0. 0. 0. 0. 0. 0. 0.\n",
      "  0. 0. 0. 0. 0. 0. 0. 0. 0. 0. 0. 0. 0. 0. 0. 0. 0. 0. 0. 0. 0. 0.]]\n"
     ]
    }
   ],
   "source": [
    "print(\"Imágen:{}\".format(predictions))"
   ]
  },
  {
   "cell_type": "markdown",
   "metadata": {},
   "source": [
    "#### Finally the prediction procedure goes with which it is established as a parameter to the image itself for its prediction and launches its respective output."
   ]
  },
  {
   "cell_type": "code",
   "execution_count": 31,
   "metadata": {},
   "outputs": [
    {
     "name": "stdout",
     "output_type": "stream",
     "text": [
      "character_10_yna\n",
      "character_11_taamatar\n",
      "character_12_thaa\n",
      "character_13_daa\n",
      "character_14_dhaa\n",
      "character_15_adna\n",
      "character_16_tabala\n",
      "character_17_tha\n",
      "character_18_da\n",
      "character_19_dha\n",
      "character_1_ka\n",
      "character_20_na\n",
      "character_21_pa\n",
      "character_22_pha\n",
      "character_23_ba\n",
      "character_24_bha\n",
      "character_25_ma\n",
      "character_26_yaw\n",
      "character_27_ra\n",
      "character_28_la\n",
      "character_29_waw\n",
      "character_2_kha\n",
      "character_30_motosaw\n",
      "character_31_petchiryakha\n",
      "character_32_patalosaw\n",
      "character_33_ha\n",
      "character_34_chhya\n",
      "character_35_tra\n",
      "character_36_gya\n",
      "character_3_ga\n",
      "character_4_gha\n",
      "character_5_kna\n",
      "character_6_cha\n",
      "character_7_chha\n",
      "character_8_ja\n",
      "character_9_jha\n",
      "digit_0\n",
      "digit_1\n",
      "digit_2\n",
      "digit_3\n",
      "digit_4\n",
      "digit_5\n",
      "digit_6\n",
      "digit_7\n",
      "digit_8\n",
      "digit_9\n",
      "1.0\n",
      "10\n",
      "C:\\Users\\Ruben\\OneDrive\\UPS\\10mo\\IA2\\corpus\\character_1_ka\n",
      "character_1_ka\n"
     ]
    }
   ],
   "source": [
    "import matplotlib.pyplot as p\n",
    "valPorc\n",
    "lista=[]\n",
    "lista2=[]\n",
    "azure\n",
    "for k in range(46):\n",
    "    lista.append(0)\n",
    "    name2 = directories[k].split(os.sep)\n",
    "    lista2.append(name2[len(name2)-1])\n",
    "    print(lista2[k])\n",
    "    \n",
    "\n",
    "for i in range(len(predictions)):\n",
    "    for j in range (len(predictions[i])):\n",
    "        if(predictions[i][j]!=0):\n",
    "            print((predictions[i][j]))\n",
    "            print(j)\n",
    "            print(directories[j])\n",
    "            lista[j]=valPorc\n",
    "            name = directories[j].split(os.sep)\n",
    "            print(name[len(name)-1])\n",
    "            break\n",
    "p.bar()"
   ]
  },
  {
   "cell_type": "markdown",
   "metadata": {},
   "source": [
    "### Histograma"
   ]
  },
  {
   "cell_type": "code",
   "execution_count": 128,
   "metadata": {},
   "outputs": [
    {
     "data": {
      "image/png": "[encoded data removed]",
      "text/plain": [
       "<Figure size 1440x720 with 1 Axes>"
      ]
     },
     "metadata": {
      "needs_background": "light"
     },
     "output_type": "display_data"
    }
   ],
   "source": [
    "v= 'Porcentaje de :'+str(valPorc)+' %'\n",
    "y_pos = np.arange(len(lista2))\n",
    "#Creamos la grafica pasando los valores en el eje X, Y, donde X = cantidad_usos y Y = lenguajes\n",
    "plt.figure(figsize=(20,10))\n",
    "plt.barh(y_pos, lista, align='center', alpha=0.5)\n",
    "#Añadimos la etiqueta de nombre de cada lenguaje en su posicion correcta\n",
    "plt.yticks(y_pos, lista2)\n",
    "#añadimos una etiqueta en el eje X\n",
    "plt.xlabel('% de Precision')\n",
    "#Y una etiqueta superior\n",
    "plt.title('Histograma de Precision ')\n",
    "plt.savefig('barras_horizontal.png',dpi = 300)\n",
    "pp.legend([v], loc='lower right')\n",
    "pp.grid(True)\n",
    "plt.show()"
   ]
  }
 ],
 "metadata": {
  "kernelspec": {
   "display_name": "Python 3",
   "language": "python",
   "name": "python3"
  },
  "language_info": {
   "codemirror_mode": {
    "name": "ipython",
    "version": 3
   },
   "file_extension": ".py",
   "mimetype": "text/x-python",
   "name": "python",
   "nbconvert_exporter": "python",
   "pygments_lexer": "ipython3",
   "version": "3.5.6"
  }
 },
 "nbformat": 4,
 "nbformat_minor": 4
}
